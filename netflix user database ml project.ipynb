{
 "cells": [
  {
   "cell_type": "code",
   "execution_count": 1,
   "metadata": {
    "_cell_guid": "b1076dfc-b9ad-4769-8c92-a6c4dae69d19",
    "_uuid": "8f2839f25d086af736a60e9eeb907d3b93b6e0e5",
    "execution": {
     "iopub.execute_input": "2023-08-14T09:01:54.008032Z",
     "iopub.status.busy": "2023-08-14T09:01:54.007649Z",
     "iopub.status.idle": "2023-08-14T09:01:54.019733Z",
     "shell.execute_reply": "2023-08-14T09:01:54.018191Z",
     "shell.execute_reply.started": "2023-08-14T09:01:54.007989Z"
    }
   },
   "outputs": [],
   "source": [
    "import numpy as np # linear algebra\n",
    "import pandas as pd # data processing, CSV file I/O (e.g. pd.read_csv)\n",
    "\n",
    "import os\n",
    "for dirname, _, filenames in os.walk('/kaggle/input'):\n",
    "    for filename in filenames:\n",
    "        print(os.path.join(dirname, filename))"
   ]
  },
  {
   "cell_type": "markdown",
   "metadata": {},
   "source": [
    "# Loading Our Dataset"
   ]
  },
  {
   "cell_type": "code",
   "execution_count": 3,
   "metadata": {
    "execution": {
     "iopub.execute_input": "2023-08-14T09:01:54.022964Z",
     "iopub.status.busy": "2023-08-14T09:01:54.022314Z",
     "iopub.status.idle": "2023-08-14T09:01:54.044554Z",
     "shell.execute_reply": "2023-08-14T09:01:54.043456Z",
     "shell.execute_reply.started": "2023-08-14T09:01:54.022928Z"
    }
   },
   "outputs": [
    {
     "data": {
      "text/html": [
       "<div>\n",
       "<style scoped>\n",
       "    .dataframe tbody tr th:only-of-type {\n",
       "        vertical-align: middle;\n",
       "    }\n",
       "\n",
       "    .dataframe tbody tr th {\n",
       "        vertical-align: top;\n",
       "    }\n",
       "\n",
       "    .dataframe thead th {\n",
       "        text-align: right;\n",
       "    }\n",
       "</style>\n",
       "<table border=\"1\" class=\"dataframe\">\n",
       "  <thead>\n",
       "    <tr style=\"text-align: right;\">\n",
       "      <th></th>\n",
       "      <th>User ID</th>\n",
       "      <th>Subscription Type</th>\n",
       "      <th>Monthly Revenue</th>\n",
       "      <th>Join Date</th>\n",
       "      <th>Last Payment Date</th>\n",
       "      <th>Country</th>\n",
       "      <th>Age</th>\n",
       "      <th>Gender</th>\n",
       "      <th>Device</th>\n",
       "      <th>Plan Duration</th>\n",
       "    </tr>\n",
       "  </thead>\n",
       "  <tbody>\n",
       "    <tr>\n",
       "      <th>0</th>\n",
       "      <td>1</td>\n",
       "      <td>Basic</td>\n",
       "      <td>10</td>\n",
       "      <td>15-01-2022</td>\n",
       "      <td>10-06-2023</td>\n",
       "      <td>United States</td>\n",
       "      <td>28</td>\n",
       "      <td>Male</td>\n",
       "      <td>Smartphone</td>\n",
       "      <td>1 Month</td>\n",
       "    </tr>\n",
       "    <tr>\n",
       "      <th>1</th>\n",
       "      <td>2</td>\n",
       "      <td>Premium</td>\n",
       "      <td>15</td>\n",
       "      <td>05-09-2021</td>\n",
       "      <td>22-06-2023</td>\n",
       "      <td>Canada</td>\n",
       "      <td>35</td>\n",
       "      <td>Female</td>\n",
       "      <td>Tablet</td>\n",
       "      <td>1 Month</td>\n",
       "    </tr>\n",
       "    <tr>\n",
       "      <th>2</th>\n",
       "      <td>3</td>\n",
       "      <td>Standard</td>\n",
       "      <td>12</td>\n",
       "      <td>28-02-2023</td>\n",
       "      <td>27-06-2023</td>\n",
       "      <td>United Kingdom</td>\n",
       "      <td>42</td>\n",
       "      <td>Male</td>\n",
       "      <td>Smart TV</td>\n",
       "      <td>1 Month</td>\n",
       "    </tr>\n",
       "    <tr>\n",
       "      <th>3</th>\n",
       "      <td>4</td>\n",
       "      <td>Standard</td>\n",
       "      <td>12</td>\n",
       "      <td>10-07-2022</td>\n",
       "      <td>26-06-2023</td>\n",
       "      <td>Australia</td>\n",
       "      <td>51</td>\n",
       "      <td>Female</td>\n",
       "      <td>Laptop</td>\n",
       "      <td>1 Month</td>\n",
       "    </tr>\n",
       "    <tr>\n",
       "      <th>4</th>\n",
       "      <td>5</td>\n",
       "      <td>Basic</td>\n",
       "      <td>10</td>\n",
       "      <td>01-05-2023</td>\n",
       "      <td>28-06-2023</td>\n",
       "      <td>Germany</td>\n",
       "      <td>33</td>\n",
       "      <td>Male</td>\n",
       "      <td>Smartphone</td>\n",
       "      <td>1 Month</td>\n",
       "    </tr>\n",
       "  </tbody>\n",
       "</table>\n",
       "</div>"
      ],
      "text/plain": [
       "   User ID Subscription Type  Monthly Revenue   Join Date Last Payment Date  \\\n",
       "0        1             Basic               10  15-01-2022        10-06-2023   \n",
       "1        2           Premium               15  05-09-2021        22-06-2023   \n",
       "2        3          Standard               12  28-02-2023        27-06-2023   \n",
       "3        4          Standard               12  10-07-2022        26-06-2023   \n",
       "4        5             Basic               10  01-05-2023        28-06-2023   \n",
       "\n",
       "          Country  Age  Gender      Device Plan Duration  \n",
       "0   United States   28    Male  Smartphone       1 Month  \n",
       "1          Canada   35  Female      Tablet       1 Month  \n",
       "2  United Kingdom   42    Male    Smart TV       1 Month  \n",
       "3       Australia   51  Female      Laptop       1 Month  \n",
       "4         Germany   33    Male  Smartphone       1 Month  "
      ]
     },
     "execution_count": 3,
     "metadata": {},
     "output_type": "execute_result"
    }
   ],
   "source": [
    "ntf=pd.read_csv(r\"C:\\Users\\DELL\\Downloads\\Netflix Userbase.csv\")\n",
    "ntf.head()"
   ]
  },
  {
   "cell_type": "code",
   "execution_count": 4,
   "metadata": {
    "execution": {
     "iopub.execute_input": "2023-08-14T09:01:54.046237Z",
     "iopub.status.busy": "2023-08-14T09:01:54.045967Z",
     "iopub.status.idle": "2023-08-14T09:01:54.053255Z",
     "shell.execute_reply": "2023-08-14T09:01:54.051938Z",
     "shell.execute_reply.started": "2023-08-14T09:01:54.046212Z"
    }
   },
   "outputs": [
    {
     "data": {
      "text/plain": [
       "Index(['User ID', 'Subscription Type', 'Monthly Revenue', 'Join Date',\n",
       "       'Last Payment Date', 'Country', 'Age', 'Gender', 'Device',\n",
       "       'Plan Duration'],\n",
       "      dtype='object')"
      ]
     },
     "execution_count": 4,
     "metadata": {},
     "output_type": "execute_result"
    }
   ],
   "source": [
    "ntf.columns"
   ]
  },
  {
   "cell_type": "code",
   "execution_count": 5,
   "metadata": {
    "execution": {
     "iopub.execute_input": "2023-08-14T09:01:54.056783Z",
     "iopub.status.busy": "2023-08-14T09:01:54.056323Z",
     "iopub.status.idle": "2023-08-14T09:01:54.06789Z",
     "shell.execute_reply": "2023-08-14T09:01:54.066375Z",
     "shell.execute_reply.started": "2023-08-14T09:01:54.056747Z"
    }
   },
   "outputs": [
    {
     "data": {
      "text/plain": [
       "(2500, 10)"
      ]
     },
     "execution_count": 5,
     "metadata": {},
     "output_type": "execute_result"
    }
   ],
   "source": [
    "ntf.shape"
   ]
  },
  {
   "cell_type": "code",
   "execution_count": 6,
   "metadata": {
    "execution": {
     "iopub.execute_input": "2023-08-14T09:01:54.071263Z",
     "iopub.status.busy": "2023-08-14T09:01:54.070924Z",
     "iopub.status.idle": "2023-08-14T09:01:54.085926Z",
     "shell.execute_reply": "2023-08-14T09:01:54.084584Z",
     "shell.execute_reply.started": "2023-08-14T09:01:54.071235Z"
    }
   },
   "outputs": [
    {
     "data": {
      "text/plain": [
       "User ID               int64\n",
       "Subscription Type    object\n",
       "Monthly Revenue       int64\n",
       "Join Date            object\n",
       "Last Payment Date    object\n",
       "Country              object\n",
       "Age                   int64\n",
       "Gender               object\n",
       "Device               object\n",
       "Plan Duration        object\n",
       "dtype: object"
      ]
     },
     "execution_count": 6,
     "metadata": {},
     "output_type": "execute_result"
    }
   ],
   "source": [
    "ntf.dtypes"
   ]
  },
  {
   "cell_type": "code",
   "execution_count": 7,
   "metadata": {
    "execution": {
     "iopub.execute_input": "2023-08-14T09:01:54.087777Z",
     "iopub.status.busy": "2023-08-14T09:01:54.087379Z",
     "iopub.status.idle": "2023-08-14T09:01:54.255961Z",
     "shell.execute_reply": "2023-08-14T09:01:54.254349Z",
     "shell.execute_reply.started": "2023-08-14T09:01:54.087749Z"
    }
   },
   "outputs": [
    {
     "data": {
      "text/plain": [
       "User ID                       int64\n",
       "Subscription Type            object\n",
       "Monthly Revenue               int64\n",
       "Join Date            datetime64[ns]\n",
       "Last Payment Date    datetime64[ns]\n",
       "Country                      object\n",
       "Age                           int64\n",
       "Gender                       object\n",
       "Device                       object\n",
       "Plan Duration                object\n",
       "dtype: object"
      ]
     },
     "execution_count": 7,
     "metadata": {},
     "output_type": "execute_result"
    }
   ],
   "source": [
    "ntf=ntf.astype({\"Join Date\":\"datetime64[ns]\",\"Last Payment Date\":\"datetime64[ns]\"})\n",
    "ntf.dtypes"
   ]
  },
  {
   "cell_type": "markdown",
   "metadata": {},
   "source": [
    "# Gender Analysis\n"
   ]
  },
  {
   "cell_type": "code",
   "execution_count": 8,
   "metadata": {
    "execution": {
     "iopub.execute_input": "2023-08-14T09:01:54.259918Z",
     "iopub.status.busy": "2023-08-14T09:01:54.258809Z",
     "iopub.status.idle": "2023-08-14T09:01:54.267111Z",
     "shell.execute_reply": "2023-08-14T09:01:54.266276Z",
     "shell.execute_reply.started": "2023-08-14T09:01:54.259875Z"
    }
   },
   "outputs": [],
   "source": [
    "gen_uni=ntf['Gender'].unique()\n",
    "no_g=[]\n",
    "for i in gen_uni:\n",
    "    no_g.append(ntf['Gender'].loc[ntf['Gender']==i].shape[0])"
   ]
  },
  {
   "cell_type": "code",
   "execution_count": 9,
   "metadata": {
    "execution": {
     "iopub.execute_input": "2023-08-14T09:01:54.268954Z",
     "iopub.status.busy": "2023-08-14T09:01:54.26843Z",
     "iopub.status.idle": "2023-08-14T09:01:54.280407Z",
     "shell.execute_reply": "2023-08-14T09:01:54.278785Z",
     "shell.execute_reply.started": "2023-08-14T09:01:54.268927Z"
    }
   },
   "outputs": [],
   "source": [
    "import seaborn as sns\n",
    "import matplotlib.pyplot as plt"
   ]
  },
  {
   "cell_type": "code",
   "execution_count": 10,
   "metadata": {
    "execution": {
     "iopub.execute_input": "2023-08-14T09:01:54.282553Z",
     "iopub.status.busy": "2023-08-14T09:01:54.282141Z",
     "iopub.status.idle": "2023-08-14T09:01:54.475255Z",
     "shell.execute_reply": "2023-08-14T09:01:54.473932Z",
     "shell.execute_reply.started": "2023-08-14T09:01:54.282521Z"
    }
   },
   "outputs": [
    {
     "data": {
      "text/plain": [
       "Text(0, 0.5, 'Frequency')"
      ]
     },
     "execution_count": 10,
     "metadata": {},
     "output_type": "execute_result"
    },
    {
     "data": {
      "image/png": "[encoded data removed]",
      "text/plain": [
       "<Figure size 432x288 with 1 Axes>"
      ]
     },
     "metadata": {
      "needs_background": "light"
     },
     "output_type": "display_data"
    }
   ],
   "source": [
    "sns.barplot(x=gen_uni,y=no_g)\n",
    "plt.title(\"Gender Frequency\")\n",
    "plt.xlabel(\"Gender\")\n",
    "plt.ylabel(\"Frequency\")"
   ]
  },
  {
   "cell_type": "markdown",
   "metadata": {},
   "source": [
    "# Age Analysis\n"
   ]
  },
  {
   "cell_type": "code",
   "execution_count": 11,
   "metadata": {
    "execution": {
     "iopub.execute_input": "2023-08-14T09:01:54.477385Z",
     "iopub.status.busy": "2023-08-14T09:01:54.476925Z",
     "iopub.status.idle": "2023-08-14T09:01:54.489759Z",
     "shell.execute_reply": "2023-08-14T09:01:54.488731Z",
     "shell.execute_reply.started": "2023-08-14T09:01:54.477345Z"
    }
   },
   "outputs": [
    {
     "data": {
      "text/plain": [
       "count    2500.000000\n",
       "mean       38.795600\n",
       "std         7.171778\n",
       "min        26.000000\n",
       "25%        32.000000\n",
       "50%        39.000000\n",
       "75%        45.000000\n",
       "max        51.000000\n",
       "Name: Age, dtype: float64"
      ]
     },
     "execution_count": 11,
     "metadata": {},
     "output_type": "execute_result"
    }
   ],
   "source": [
    "ntf['Age'].describe()"
   ]
  },
  {
   "cell_type": "code",
   "execution_count": 12,
   "metadata": {
    "execution": {
     "iopub.execute_input": "2023-08-14T09:01:54.491402Z",
     "iopub.status.busy": "2023-08-14T09:01:54.491103Z",
     "iopub.status.idle": "2023-08-14T09:01:54.5009Z",
     "shell.execute_reply": "2023-08-14T09:01:54.499942Z",
     "shell.execute_reply.started": "2023-08-14T09:01:54.491378Z"
    }
   },
   "outputs": [
    {
     "data": {
      "text/plain": [
       "0"
      ]
     },
     "execution_count": 12,
     "metadata": {},
     "output_type": "execute_result"
    }
   ],
   "source": [
    "# Checking for null values\n",
    "ntf['Age'].isnull().sum()"
   ]
  },
  {
   "cell_type": "code",
   "execution_count": 13,
   "metadata": {
    "execution": {
     "iopub.execute_input": "2023-08-14T09:01:54.502786Z",
     "iopub.status.busy": "2023-08-14T09:01:54.50249Z",
     "iopub.status.idle": "2023-08-14T09:01:54.519112Z",
     "shell.execute_reply": "2023-08-14T09:01:54.517251Z",
     "shell.execute_reply.started": "2023-08-14T09:01:54.502762Z"
    }
   },
   "outputs": [],
   "source": [
    "# Calculating the frequency for each Age and appending it into a list\n",
    "age_uni=ntf['Age'].unique()\n",
    "no_a=[];\n",
    "for i in age_uni:\n",
    "    no_a.append(ntf['Age'].loc[ntf['Age']==i].shape[0])"
   ]
  },
  {
   "cell_type": "code",
   "execution_count": 14,
   "metadata": {
    "execution": {
     "iopub.execute_input": "2023-08-14T09:01:54.521062Z",
     "iopub.status.busy": "2023-08-14T09:01:54.520756Z",
     "iopub.status.idle": "2023-08-14T09:01:54.902057Z",
     "shell.execute_reply": "2023-08-14T09:01:54.900517Z",
     "shell.execute_reply.started": "2023-08-14T09:01:54.521035Z"
    }
   },
   "outputs": [
    {
     "data": {
      "text/plain": [
       "Text(0, 0.5, 'Frequency')"
      ]
     },
     "execution_count": 14,
     "metadata": {},
     "output_type": "execute_result"
    },
    {
     "data": {
      "image/png": "[encoded data removed]",
      "text/plain": [
       "<Figure size 576x360 with 1 Axes>"
      ]
     },
     "metadata": {
      "needs_background": "light"
     },
     "output_type": "display_data"
    }
   ],
   "source": [
    "# A bar chart depicting the number of people of each age group\n",
    "plt.figure(figsize=(8,5))\n",
    "sns.barplot(x=age_uni,y=no_a)\n",
    "plt.title('Age Frequency')\n",
    "plt.xlabel('Ages')\n",
    "plt.ylabel('Frequency')\n"
   ]
  },
  {
   "cell_type": "markdown",
   "metadata": {},
   "source": [
    "# Country Analysis"
   ]
  },
  {
   "cell_type": "code",
   "execution_count": 15,
   "metadata": {
    "execution": {
     "iopub.execute_input": "2023-08-14T09:01:54.906179Z",
     "iopub.status.busy": "2023-08-14T09:01:54.90587Z",
     "iopub.status.idle": "2023-08-14T09:01:54.915198Z",
     "shell.execute_reply": "2023-08-14T09:01:54.913992Z",
     "shell.execute_reply.started": "2023-08-14T09:01:54.906152Z"
    }
   },
   "outputs": [
    {
     "data": {
      "text/plain": [
       "count              2500\n",
       "unique               10\n",
       "top       United States\n",
       "freq                451\n",
       "Name: Country, dtype: object"
      ]
     },
     "execution_count": 15,
     "metadata": {},
     "output_type": "execute_result"
    }
   ],
   "source": [
    "ntf['Country'].describe()"
   ]
  },
  {
   "cell_type": "code",
   "execution_count": 16,
   "metadata": {
    "execution": {
     "iopub.execute_input": "2023-08-14T09:01:54.91788Z",
     "iopub.status.busy": "2023-08-14T09:01:54.916511Z",
     "iopub.status.idle": "2023-08-14T09:01:54.930937Z",
     "shell.execute_reply": "2023-08-14T09:01:54.92986Z",
     "shell.execute_reply.started": "2023-08-14T09:01:54.917795Z"
    }
   },
   "outputs": [
    {
     "data": {
      "text/plain": [
       "0"
      ]
     },
     "execution_count": 16,
     "metadata": {},
     "output_type": "execute_result"
    }
   ],
   "source": [
    "# Checking for NULL values\n",
    "ntf['Country'].isnull().sum()"
   ]
  },
  {
   "cell_type": "code",
   "execution_count": 17,
   "metadata": {
    "execution": {
     "iopub.execute_input": "2023-08-14T09:01:54.933014Z",
     "iopub.status.busy": "2023-08-14T09:01:54.932706Z",
     "iopub.status.idle": "2023-08-14T09:01:54.951323Z",
     "shell.execute_reply": "2023-08-14T09:01:54.949195Z",
     "shell.execute_reply.started": "2023-08-14T09:01:54.932989Z"
    }
   },
   "outputs": [],
   "source": [
    "coun_uni=ntf['Country'].unique()\n",
    "no_c=[]\n",
    "for i in coun_uni:\n",
    "    no_c.append(ntf['Country'].loc[ntf['Country']==i].shape[0])"
   ]
  },
  {
   "cell_type": "code",
   "execution_count": 18,
   "metadata": {
    "execution": {
     "iopub.execute_input": "2023-08-14T09:01:54.953291Z",
     "iopub.status.busy": "2023-08-14T09:01:54.952888Z",
     "iopub.status.idle": "2023-08-14T09:01:55.189129Z",
     "shell.execute_reply": "2023-08-14T09:01:55.18773Z",
     "shell.execute_reply.started": "2023-08-14T09:01:54.953261Z"
    }
   },
   "outputs": [
    {
     "data": {
      "image/png": "[encoded data removed]",
      "text/plain": [
       "<Figure size 576x360 with 1 Axes>"
      ]
     },
     "metadata": {
      "needs_background": "light"
     },
     "output_type": "display_data"
    }
   ],
   "source": [
    "fig,ax=plt.subplots(figsize=(8,5))\n",
    "sns.barplot(x=coun_uni,y=no_c,ax=ax)\n",
    "plt.title(\"Country Frequency\")\n",
    "plt.xlabel(\"Countries\")\n",
    "plt.ylabel(\"Frequency\")\n",
    "axis_rot=ax.set_xticklabels(ax.get_xticklabels(), rotation=90)"
   ]
  },
  {
   "cell_type": "markdown",
   "metadata": {},
   "source": [
    "# Device Analysis"
   ]
  },
  {
   "cell_type": "code",
   "execution_count": 19,
   "metadata": {
    "execution": {
     "iopub.execute_input": "2023-08-14T09:01:55.191096Z",
     "iopub.status.busy": "2023-08-14T09:01:55.190764Z",
     "iopub.status.idle": "2023-08-14T09:01:55.201367Z",
     "shell.execute_reply": "2023-08-14T09:01:55.199821Z",
     "shell.execute_reply.started": "2023-08-14T09:01:55.191066Z"
    }
   },
   "outputs": [],
   "source": [
    "dev_uni=ntf['Device'].unique()\n",
    "no_d=[];\n",
    "for i in dev_uni:\n",
    "    no_d.append(ntf['Device'].loc[ntf['Device']==i].shape[0])"
   ]
  },
  {
   "cell_type": "code",
   "execution_count": 20,
   "metadata": {
    "execution": {
     "iopub.execute_input": "2023-08-14T09:01:55.204913Z",
     "iopub.status.busy": "2023-08-14T09:01:55.204509Z",
     "iopub.status.idle": "2023-08-14T09:01:55.394654Z",
     "shell.execute_reply": "2023-08-14T09:01:55.393691Z",
     "shell.execute_reply.started": "2023-08-14T09:01:55.20488Z"
    }
   },
   "outputs": [
    {
     "data": {
      "text/plain": [
       "Text(0, 0.5, 'Frequency')"
      ]
     },
     "execution_count": 20,
     "metadata": {},
     "output_type": "execute_result"
    },
    {
     "data": {
      "image/png": "[encoded data removed]",
      "text/plain": [
       "<Figure size 432x288 with 1 Axes>"
      ]
     },
     "metadata": {
      "needs_background": "light"
     },
     "output_type": "display_data"
    }
   ],
   "source": [
    "sns.barplot(x=dev_uni,y=no_d)\n",
    "plt.title(\"Device Frequency\")\n",
    "plt.xlabel(\"Devices\")\n",
    "plt.ylabel(\"Frequency\")"
   ]
  },
  {
   "cell_type": "markdown",
   "metadata": {},
   "source": [
    "# Further Analysis"
   ]
  },
  {
   "cell_type": "code",
   "execution_count": 21,
   "metadata": {
    "execution": {
     "iopub.execute_input": "2023-08-14T09:01:55.396209Z",
     "iopub.status.busy": "2023-08-14T09:01:55.395835Z",
     "iopub.status.idle": "2023-08-14T09:01:55.729473Z",
     "shell.execute_reply": "2023-08-14T09:01:55.728545Z",
     "shell.execute_reply.started": "2023-08-14T09:01:55.396176Z"
    }
   },
   "outputs": [
    {
     "data": {
      "text/plain": [
       "Text(0.5, 1.0, 'Join Date Density')"
      ]
     },
     "execution_count": 21,
     "metadata": {},
     "output_type": "execute_result"
    },
    {
     "data": {
      "image/png": "[encoded data removed]",
      "text/plain": [
       "<Figure size 576x360 with 1 Axes>"
      ]
     },
     "metadata": {
      "needs_background": "light"
     },
     "output_type": "display_data"
    }
   ],
   "source": [
    "plt.figure(figsize=(8,5))\n",
    "sns.kdeplot(data=ntf['Join Date'], fill=True)\n",
    "plt.title(\"Join Date Density\")"
   ]
  },
  {
   "cell_type": "code",
   "execution_count": 22,
   "metadata": {
    "execution": {
     "iopub.execute_input": "2023-08-14T09:01:55.731157Z",
     "iopub.status.busy": "2023-08-14T09:01:55.730832Z",
     "iopub.status.idle": "2023-08-14T09:01:55.746098Z",
     "shell.execute_reply": "2023-08-14T09:01:55.744789Z",
     "shell.execute_reply.started": "2023-08-14T09:01:55.731126Z"
    }
   },
   "outputs": [
    {
     "data": {
      "text/html": [
       "<div>\n",
       "<style scoped>\n",
       "    .dataframe tbody tr th:only-of-type {\n",
       "        vertical-align: middle;\n",
       "    }\n",
       "\n",
       "    .dataframe tbody tr th {\n",
       "        vertical-align: top;\n",
       "    }\n",
       "\n",
       "    .dataframe thead th {\n",
       "        text-align: right;\n",
       "    }\n",
       "</style>\n",
       "<table border=\"1\" class=\"dataframe\">\n",
       "  <thead>\n",
       "    <tr style=\"text-align: right;\">\n",
       "      <th></th>\n",
       "      <th>User ID</th>\n",
       "      <th>Subscription Type</th>\n",
       "      <th>Monthly Revenue</th>\n",
       "      <th>Join Date</th>\n",
       "      <th>Last Payment Date</th>\n",
       "      <th>Country</th>\n",
       "      <th>Age</th>\n",
       "      <th>Gender</th>\n",
       "      <th>Device</th>\n",
       "      <th>Plan Duration</th>\n",
       "    </tr>\n",
       "  </thead>\n",
       "  <tbody>\n",
       "    <tr>\n",
       "      <th>0</th>\n",
       "      <td>1</td>\n",
       "      <td>Basic</td>\n",
       "      <td>10</td>\n",
       "      <td>2022-01-15</td>\n",
       "      <td>2023-10-06</td>\n",
       "      <td>United States</td>\n",
       "      <td>28</td>\n",
       "      <td>Male</td>\n",
       "      <td>Smartphone</td>\n",
       "      <td>1 Month</td>\n",
       "    </tr>\n",
       "    <tr>\n",
       "      <th>1</th>\n",
       "      <td>2</td>\n",
       "      <td>Premium</td>\n",
       "      <td>15</td>\n",
       "      <td>2021-05-09</td>\n",
       "      <td>2023-06-22</td>\n",
       "      <td>Canada</td>\n",
       "      <td>35</td>\n",
       "      <td>Female</td>\n",
       "      <td>Tablet</td>\n",
       "      <td>1 Month</td>\n",
       "    </tr>\n",
       "    <tr>\n",
       "      <th>2</th>\n",
       "      <td>3</td>\n",
       "      <td>Standard</td>\n",
       "      <td>12</td>\n",
       "      <td>2023-02-28</td>\n",
       "      <td>2023-06-27</td>\n",
       "      <td>United Kingdom</td>\n",
       "      <td>42</td>\n",
       "      <td>Male</td>\n",
       "      <td>Smart TV</td>\n",
       "      <td>1 Month</td>\n",
       "    </tr>\n",
       "    <tr>\n",
       "      <th>3</th>\n",
       "      <td>4</td>\n",
       "      <td>Standard</td>\n",
       "      <td>12</td>\n",
       "      <td>2022-10-07</td>\n",
       "      <td>2023-06-26</td>\n",
       "      <td>Australia</td>\n",
       "      <td>51</td>\n",
       "      <td>Female</td>\n",
       "      <td>Laptop</td>\n",
       "      <td>1 Month</td>\n",
       "    </tr>\n",
       "    <tr>\n",
       "      <th>4</th>\n",
       "      <td>5</td>\n",
       "      <td>Basic</td>\n",
       "      <td>10</td>\n",
       "      <td>2023-01-05</td>\n",
       "      <td>2023-06-28</td>\n",
       "      <td>Germany</td>\n",
       "      <td>33</td>\n",
       "      <td>Male</td>\n",
       "      <td>Smartphone</td>\n",
       "      <td>1 Month</td>\n",
       "    </tr>\n",
       "  </tbody>\n",
       "</table>\n",
       "</div>"
      ],
      "text/plain": [
       "   User ID Subscription Type  Monthly Revenue  Join Date Last Payment Date  \\\n",
       "0        1             Basic               10 2022-01-15        2023-10-06   \n",
       "1        2           Premium               15 2021-05-09        2023-06-22   \n",
       "2        3          Standard               12 2023-02-28        2023-06-27   \n",
       "3        4          Standard               12 2022-10-07        2023-06-26   \n",
       "4        5             Basic               10 2023-01-05        2023-06-28   \n",
       "\n",
       "          Country  Age  Gender      Device Plan Duration  \n",
       "0   United States   28    Male  Smartphone       1 Month  \n",
       "1          Canada   35  Female      Tablet       1 Month  \n",
       "2  United Kingdom   42    Male    Smart TV       1 Month  \n",
       "3       Australia   51  Female      Laptop       1 Month  \n",
       "4         Germany   33    Male  Smartphone       1 Month  "
      ]
     },
     "execution_count": 22,
     "metadata": {},
     "output_type": "execute_result"
    }
   ],
   "source": [
    "ntf.head()"
   ]
  },
  {
   "cell_type": "code",
   "execution_count": 23,
   "metadata": {
    "execution": {
     "iopub.execute_input": "2023-08-14T09:01:55.747614Z",
     "iopub.status.busy": "2023-08-14T09:01:55.747319Z",
     "iopub.status.idle": "2023-08-14T09:01:55.760733Z",
     "shell.execute_reply": "2023-08-14T09:01:55.759312Z",
     "shell.execute_reply.started": "2023-08-14T09:01:55.747585Z"
    }
   },
   "outputs": [],
   "source": [
    "sub_type=ntf['Subscription Type'].unique()\n",
    "no_s=[]\n",
    "for i in sub_type:\n",
    "    no_s.append(ntf['Subscription Type'].loc[ntf['Subscription Type']==i].shape[0])"
   ]
  },
  {
   "cell_type": "code",
   "execution_count": 24,
   "metadata": {
    "execution": {
     "iopub.execute_input": "2023-08-14T09:01:55.763053Z",
     "iopub.status.busy": "2023-08-14T09:01:55.762515Z",
     "iopub.status.idle": "2023-08-14T09:01:55.963775Z",
     "shell.execute_reply": "2023-08-14T09:01:55.962617Z",
     "shell.execute_reply.started": "2023-08-14T09:01:55.76302Z"
    }
   },
   "outputs": [
    {
     "data": {
      "text/plain": [
       "Text(0.5, 1.0, 'How popular is each subscription plan?')"
      ]
     },
     "execution_count": 24,
     "metadata": {},
     "output_type": "execute_result"
    },
    {
     "data": {
      "image/png": "[encoded data removed]",
      "text/plain": [
       "<Figure size 432x288 with 1 Axes>"
      ]
     },
     "metadata": {
      "needs_background": "light"
     },
     "output_type": "display_data"
    }
   ],
   "source": [
    "sns.barplot(x=sub_type,y=no_s)\n",
    "plt.xlabel(\"Subscription Type\")\n",
    "plt.ylabel(\"No. of Subscribers\")\n",
    "plt.title(\"How popular is each subscription plan?\")"
   ]
  }
 ],
 "metadata": {
  "kernelspec": {
   "display_name": "Python 3 (ipykernel)",
   "language": "python",
   "name": "python3"
  },
  "language_info": {
   "codemirror_mode": {
    "name": "ipython",
    "version": 3
   },
   "file_extension": ".py",
   "mimetype": "text/x-python",
   "name": "python",
   "nbconvert_exporter": "python",
   "pygments_lexer": "ipython3",
   "version": "3.9.7"
  }
 },
 "nbformat": 4,
 "nbformat_minor": 4
}
